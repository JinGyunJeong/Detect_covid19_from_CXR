{
 "cells": [
  {
   "cell_type": "code",
   "execution_count": null,
   "metadata": {
    "colab": {},
    "colab_type": "code",
    "id": "Sky-EAnIPr3P"
   },
   "outputs": [],
   "source": [
    "import numpy as np\n",
    "import tensorflow as tf\n",
    "from keras.models import load_model\n",
    "import tensorflow_hub as hub"
   ]
  },
  {
   "cell_type": "code",
   "execution_count": null,
   "metadata": {
    "colab": {
     "base_uri": "https://localhost:8080/",
     "height": 161
    },
    "colab_type": "code",
    "executionInfo": {
     "elapsed": 11281,
     "status": "ok",
     "timestamp": 1600000172745,
     "user": {
      "displayName": "하얀토마토",
      "photoUrl": "https://lh3.googleusercontent.com/a-/AOh14Gg6vDBrxCTQgLfR3k4Ki87kEMHbAng403bLeTrH=s64",
      "userId": "01056407583135415771"
     },
     "user_tz": -540
    },
    "id": "QrQoo8HUDb-d",
    "outputId": "d8a4d280-df4b-4f1c-ec21-923b00422307"
   },
   "outputs": [
    {
     "name": "stdout",
     "output_type": "stream",
     "text": [
      "WARNING:tensorflow:No training configuration found in the save file, so the model was *not* compiled. Compile it manually.\n"
     ]
    },
    {
     "name": "stderr",
     "output_type": "stream",
     "text": [
      "WARNING:tensorflow:No training configuration found in the save file, so the model was *not* compiled. Compile it manually.\n"
     ]
    },
    {
     "name": "stdout",
     "output_type": "stream",
     "text": [
      "WARNING:tensorflow:8 out of the last 14 calls to <function Model.make_predict_function.<locals>.predict_function at 0x7f71f8578400> triggered tf.function retracing. Tracing is expensive and the excessive number of tracings could be due to (1) creating @tf.function repeatedly in a loop, (2) passing tensors with different shapes, (3) passing Python objects instead of tensors. For (1), please define your @tf.function outside of the loop. For (2), @tf.function has experimental_relax_shapes=True option that relaxes argument shapes that can avoid unnecessary retracing. For (3), please refer to https://www.tensorflow.org/tutorials/customization/performance#python_or_tensor_args and https://www.tensorflow.org/api_docs/python/tf/function for  more details.\n"
     ]
    },
    {
     "name": "stderr",
     "output_type": "stream",
     "text": [
      "WARNING:tensorflow:8 out of the last 14 calls to <function Model.make_predict_function.<locals>.predict_function at 0x7f71f8578400> triggered tf.function retracing. Tracing is expensive and the excessive number of tracings could be due to (1) creating @tf.function repeatedly in a loop, (2) passing tensors with different shapes, (3) passing Python objects instead of tensors. For (1), please define your @tf.function outside of the loop. For (2), @tf.function has experimental_relax_shapes=True option that relaxes argument shapes that can avoid unnecessary retracing. For (3), please refer to https://www.tensorflow.org/tutorials/customization/performance#python_or_tensor_args and https://www.tensorflow.org/api_docs/python/tf/function for  more details.\n"
     ]
    },
    {
     "name": "stdout",
     "output_type": "stream",
     "text": [
      "WARNING:tensorflow:9 out of the last 15 calls to <function Model.make_predict_function.<locals>.predict_function at 0x7f71f6589620> triggered tf.function retracing. Tracing is expensive and the excessive number of tracings could be due to (1) creating @tf.function repeatedly in a loop, (2) passing tensors with different shapes, (3) passing Python objects instead of tensors. For (1), please define your @tf.function outside of the loop. For (2), @tf.function has experimental_relax_shapes=True option that relaxes argument shapes that can avoid unnecessary retracing. For (3), please refer to https://www.tensorflow.org/tutorials/customization/performance#python_or_tensor_args and https://www.tensorflow.org/api_docs/python/tf/function for  more details.\n"
     ]
    },
    {
     "name": "stderr",
     "output_type": "stream",
     "text": [
      "WARNING:tensorflow:9 out of the last 15 calls to <function Model.make_predict_function.<locals>.predict_function at 0x7f71f6589620> triggered tf.function retracing. Tracing is expensive and the excessive number of tracings could be due to (1) creating @tf.function repeatedly in a loop, (2) passing tensors with different shapes, (3) passing Python objects instead of tensors. For (1), please define your @tf.function outside of the loop. For (2), @tf.function has experimental_relax_shapes=True option that relaxes argument shapes that can avoid unnecessary retracing. For (3), please refer to https://www.tensorflow.org/tutorials/customization/performance#python_or_tensor_args and https://www.tensorflow.org/api_docs/python/tf/function for  more details.\n"
     ]
    },
    {
     "name": "stdout",
     "output_type": "stream",
     "text": [
      "COVID19\n"
     ]
    }
   ],
   "source": [
    "# 한번에 하나의 이미지만 예측할 수 있다.\n",
    "\n",
    "def Predict_CXR(image_path, feature_model_path, model_path):\n",
    "    # 모델 불러오기\n",
    "    # 모델 불러올 때 Warning이 표시되는데 이는 더 training하지 못한다는 의미이고,\n",
    "    # 이 함수에서는 더 이상 training을 하지 않음.\n",
    "    model = load_model(model_path)\n",
    "    feature_model = load_model(feature_model_path, custom_objects={'KerasLayer': hub.KerasLayer})\n",
    "\n",
    "    # 이미지를 불러옴\n",
    "    img = cv2.imread(image_path)\n",
    "    # 이미지 크기를 모델에 맞게 조정\n",
    "    img = cv2.resize(img, dsize=(224,224))\n",
    "    # 이미지 픽셀값 스케일링\n",
    "    img = img / 255.0\n",
    "    # 이미지 차원 확장 (224,224,3) -> (1,224,224,3)  : feature_model에 넣기위함\n",
    "    img = np.expand_dims(img, axis=0)\n",
    "    # feature_model에서 feature 추출\n",
    "    feature_vector = feature_model.predict(img)\n",
    "    # 앞서 생성한 model 분류기를 통해 예측 수행\n",
    "    prediction = model.predict(feature_vector)[0]\n",
    "\n",
    "    unique_sorted_Y = ['COVID19','NORMAL','PNEUMONIA']\n",
    "\n",
    "    # 가장 예측값이 높은 인덱스를 반환\n",
    "    index = prediction.argmax()\n",
    "\n",
    "    # labels에 저장 \n",
    "    label = unique_sorted_Y[index]\n",
    "    print(label)\n",
    "    return label\n",
    "Predict_CXR('/content/drive/My Drive/인공지능 학습관련/COVID-19 Radiography Database/data/COVID-19/COVID-19 (10).png',\n",
    "            '/content/drive/My Drive/인공지능 학습관련/covid19_detection_model/feature_model.h5',\n",
    "            '/content/drive/My Drive/인공지능 학습관련/covid19_detection_model/Inception_Resnet_V2_224_best.h5')"
   ]
  },
  {
   "cell_type": "code",
   "execution_count": null,
   "metadata": {
    "colab": {
     "base_uri": "https://localhost:8080/",
     "height": 250
    },
    "colab_type": "code",
    "executionInfo": {
     "elapsed": 37220,
     "status": "ok",
     "timestamp": 1600000262161,
     "user": {
      "displayName": "하얀토마토",
      "photoUrl": "https://lh3.googleusercontent.com/a-/AOh14Gg6vDBrxCTQgLfR3k4Ki87kEMHbAng403bLeTrH=s64",
      "userId": "01056407583135415771"
     },
     "user_tz": -540
    },
    "id": "ZzOaelM4oAY_",
    "outputId": "73b2fa09-16b6-4013-e687-b1c2e92bdf93"
   },
   "outputs": [
    {
     "name": "stdout",
     "output_type": "stream",
     "text": [
      "WARNING:tensorflow:No training configuration found in the save file, so the model was *not* compiled. Compile it manually.\n"
     ]
    },
    {
     "name": "stderr",
     "output_type": "stream",
     "text": [
      "WARNING:tensorflow:No training configuration found in the save file, so the model was *not* compiled. Compile it manually.\n"
     ]
    },
    {
     "name": "stdout",
     "output_type": "stream",
     "text": [
      "WARNING:tensorflow:10 out of the last 16 calls to <function Model.make_predict_function.<locals>.predict_function at 0x7f71f4bc99d8> triggered tf.function retracing. Tracing is expensive and the excessive number of tracings could be due to (1) creating @tf.function repeatedly in a loop, (2) passing tensors with different shapes, (3) passing Python objects instead of tensors. For (1), please define your @tf.function outside of the loop. For (2), @tf.function has experimental_relax_shapes=True option that relaxes argument shapes that can avoid unnecessary retracing. For (3), please refer to https://www.tensorflow.org/tutorials/customization/performance#python_or_tensor_args and https://www.tensorflow.org/api_docs/python/tf/function for  more details.\n"
     ]
    },
    {
     "name": "stderr",
     "output_type": "stream",
     "text": [
      "WARNING:tensorflow:10 out of the last 16 calls to <function Model.make_predict_function.<locals>.predict_function at 0x7f71f4bc99d8> triggered tf.function retracing. Tracing is expensive and the excessive number of tracings could be due to (1) creating @tf.function repeatedly in a loop, (2) passing tensors with different shapes, (3) passing Python objects instead of tensors. For (1), please define your @tf.function outside of the loop. For (2), @tf.function has experimental_relax_shapes=True option that relaxes argument shapes that can avoid unnecessary retracing. For (3), please refer to https://www.tensorflow.org/tutorials/customization/performance#python_or_tensor_args and https://www.tensorflow.org/api_docs/python/tf/function for  more details.\n"
     ]
    },
    {
     "name": "stdout",
     "output_type": "stream",
     "text": [
      "WARNING:tensorflow:11 out of the last 17 calls to <function Model.make_predict_function.<locals>.predict_function at 0x7f71f3f2cea0> triggered tf.function retracing. Tracing is expensive and the excessive number of tracings could be due to (1) creating @tf.function repeatedly in a loop, (2) passing tensors with different shapes, (3) passing Python objects instead of tensors. For (1), please define your @tf.function outside of the loop. For (2), @tf.function has experimental_relax_shapes=True option that relaxes argument shapes that can avoid unnecessary retracing. For (3), please refer to https://www.tensorflow.org/tutorials/customization/performance#python_or_tensor_args and https://www.tensorflow.org/api_docs/python/tf/function for  more details.\n"
     ]
    },
    {
     "name": "stderr",
     "output_type": "stream",
     "text": [
      "WARNING:tensorflow:11 out of the last 17 calls to <function Model.make_predict_function.<locals>.predict_function at 0x7f71f3f2cea0> triggered tf.function retracing. Tracing is expensive and the excessive number of tracings could be due to (1) creating @tf.function repeatedly in a loop, (2) passing tensors with different shapes, (3) passing Python objects instead of tensors. For (1), please define your @tf.function outside of the loop. For (2), @tf.function has experimental_relax_shapes=True option that relaxes argument shapes that can avoid unnecessary retracing. For (3), please refer to https://www.tensorflow.org/tutorials/customization/performance#python_or_tensor_args and https://www.tensorflow.org/api_docs/python/tf/function for  more details.\n"
     ]
    },
    {
     "name": "stdout",
     "output_type": "stream",
     "text": [
      "COVID19\n",
      "COVID19\n",
      "NORMAL\n",
      "NORMAL\n",
      "PNEUMONIA\n",
      "PNEUMONIA\n"
     ]
    }
   ],
   "source": [
    "paths = ['/content/drive/My Drive/인공지능 학습관련/COVID-19 Radiography Database/data/COVID-19/COVID-19 (1).png',\n",
    "         '/content/drive/My Drive/인공지능 학습관련/COVID-19 Radiography Database/data/COVID-19/COVID-19 (100).png',\n",
    "         '/content/drive/My Drive/인공지능 학습관련/COVID-19 Radiography Database/data/NORMAL/NORMAL (1).png',\n",
    "         '/content/drive/My Drive/인공지능 학습관련/COVID-19 Radiography Database/data/NORMAL/NORMAL (1004).png',\n",
    "         '/content/drive/My Drive/인공지능 학습관련/COVID-19 Radiography Database/data/Viral Pneumonia/Viral Pneumonia (10).png',\n",
    "         '/content/drive/My Drive/인공지능 학습관련/COVID-19 Radiography Database/data/Viral Pneumonia/Viral Pneumonia (1005).png']\n",
    "\n",
    "# 여러 사진들을 한 번에 예측을 수행한다.\n",
    "# feature_model과 model을 반복마다 부르지 않아도 된다.\n",
    "\n",
    "def Predict_CXR_iter(image_path_list, feature_model_path, model_path):\n",
    "    # 모델 불러오기\n",
    "    # 모델 불러올 때 Warning이 표시되는데 이는 더 training하지 못한다는 의미이고,\n",
    "    # 이 함수에서는 더 이상 training을 하지 않음.\n",
    "    model = load_model(model_path)\n",
    "    feature_model = load_model(feature_model_path, custom_objects={'KerasLayer': hub.KerasLayer})\n",
    "\n",
    "    labels =[]\n",
    "    for image_path in image_path_list:\n",
    "        # 이미지를 불러옴\n",
    "        img = cv2.imread(image_path)\n",
    "        # 이미지 크기를 모델에 맞게 조정\n",
    "        img = cv2.resize(img, dsize=(224,224))\n",
    "        # 이미지 픽셀값 스케일링\n",
    "        img = img / 255.0\n",
    "        # 이미지 차원 확장 (224,224,3) -> (1,224,224,3)  : feature_model에 넣기위함\n",
    "        img = np.expand_dims(img, axis=0)\n",
    "        # feature_model에서 feature 추출\n",
    "        feature_vector = feature_model.predict(img)\n",
    "        # 앞서 생성한 model 분류기를 통해 예측 수행\n",
    "        prediction = model.predict(feature_vector)[0]  \n",
    "\n",
    "        unique_sorted_Y = ['COVID19','NORMAL','PNEUMONIA']\n",
    "        # 가장 예측값이 높은 인덱스를 반환\n",
    "        index = prediction.argmax()\n",
    "\n",
    "        # labels에 저장 \n",
    "        label = unique_sorted_Y[index]\n",
    "        print(label)\n",
    "        labels.append(label)\n",
    "    return labels\n",
    "Predict_CXR_iter(paths,\n",
    "        '/content/drive/My Drive/인공지능 학습관련/covid19_detection_model/feature_model.h5',\n",
    "        '/content/drive/My Drive/인공지능 학습관련/covid19_detection_model/Inception_Resnet_V2_224_best.h5')"
   ]
  },
  {
   "cell_type": "code",
   "execution_count": null,
   "metadata": {
    "colab": {
     "base_uri": "https://localhost:8080/",
     "height": 52
    },
    "colab_type": "code",
    "executionInfo": {
     "elapsed": 9377,
     "status": "ok",
     "timestamp": 1599999997316,
     "user": {
      "displayName": "하얀토마토",
      "photoUrl": "https://lh3.googleusercontent.com/a-/AOh14Gg6vDBrxCTQgLfR3k4Ki87kEMHbAng403bLeTrH=s64",
      "userId": "01056407583135415771"
     },
     "user_tz": -540
    },
    "id": "qyO4rY3tvhje",
    "outputId": "705e4ace-1f2f-4f9a-dcdb-21dffa05b2b5"
   },
   "outputs": [
    {
     "name": "stdout",
     "output_type": "stream",
     "text": [
      "WARNING:tensorflow:No training configuration found in the save file, so the model was *not* compiled. Compile it manually.\n"
     ]
    },
    {
     "name": "stderr",
     "output_type": "stream",
     "text": [
      "WARNING:tensorflow:No training configuration found in the save file, so the model was *not* compiled. Compile it manually.\n"
     ]
    }
   ],
   "source": [
    "model = load_model('/content/drive/My Drive/인공지능 학습관련/covid19_detection_model/Inception_Resnet_V2_224_best.h5')\n",
    "feature_model = load_model('/content/drive/My Drive/인공지능 학습관련/covid19_detection_model/feature_model.h5', custom_objects={'KerasLayer': hub.KerasLayer})"
   ]
  },
  {
   "cell_type": "code",
   "execution_count": null,
   "metadata": {
    "colab": {
     "base_uri": "https://localhost:8080/",
     "height": 52
    },
    "colab_type": "code",
    "executionInfo": {
     "elapsed": 801,
     "status": "ok",
     "timestamp": 1600000285668,
     "user": {
      "displayName": "하얀토마토",
      "photoUrl": "https://lh3.googleusercontent.com/a-/AOh14Gg6vDBrxCTQgLfR3k4Ki87kEMHbAng403bLeTrH=s64",
      "userId": "01056407583135415771"
     },
     "user_tz": -540
    },
    "id": "FwcBhH23vN_O",
    "outputId": "ca8e1533-53ff-425c-87d9-2f0919dc5980"
   },
   "outputs": [
    {
     "name": "stdout",
     "output_type": "stream",
     "text": [
      "[9.9997342e-01 1.2245206e-05 1.4288857e-05]\n",
      "COVID19\n"
     ]
    }
   ],
   "source": [
    "# 한번에 하나의 이미지만 예측할 수 있다.\n",
    "# 모델을 함수 밖에서 불러온다면? --> 함수 실행시마다 불러오지 않고 한 번 불러오면 계속 사용가능.\n",
    "# views.py 에서 이미 모델과 피쳐모델이 불려져 있다면 바로 이 함수를 실행시킬 수 있다.\n",
    "def Predict_CXR(image_path):\n",
    "    \n",
    "    # 이미지를 불러옴\n",
    "    img = cv2.imread(image_path)\n",
    "    # 이미지 크기를 모델에 맞게 조정\n",
    "    img = cv2.resize(img, dsize=(224,224))\n",
    "    # 이미지 픽셀값 스케일링\n",
    "    img = img / 255.0\n",
    "    # 이미지 차원 확장 (224,224,3) -> (1,224,224,3)  : feature_model에 넣기위함\n",
    "    img = np.expand_dims(img, axis=0)\n",
    "    # feature_model에서 feature 추출\n",
    "    feature_vector = feature_model.predict(img)\n",
    "    # 앞서 생성한 model 분류기를 통해 예측 수행\n",
    "    prediction = model.predict(feature_vector)[0]\n",
    "    print(prediction)\n",
    "    \n",
    "    unique_sorted_Y = ['COVID19','NORMAL','PNEUMONIA']\n",
    "    #확률의 예측값을 5개 선출 \n",
    "    # 가장 예측값이 높은 인덱스를 반환\n",
    "    index = prediction.argmax()\n",
    "\n",
    "    # labels에 저장 \n",
    "    label = unique_sorted_Y[index]\n",
    "    print(label)\n",
    "    return label\n",
    "\n",
    "Predict_CXR('/content/drive/My Drive/인공지능 학습관련/COVID-19 Radiography Database/data/COVID-19/COVID-19 (10).png')"
   ]
  },
  {
   "cell_type": "code",
   "execution_count": null,
   "metadata": {
    "colab": {},
    "colab_type": "code",
    "id": "2dsaekQ9vg8C"
   },
   "outputs": [],
   "source": []
  },
  {
   "cell_type": "code",
   "execution_count": null,
   "metadata": {
    "colab": {},
    "colab_type": "code",
    "id": "mNvzZ86YPRSv"
   },
   "outputs": [],
   "source": []
  }
 ],
 "metadata": {
  "accelerator": "GPU",
  "colab": {
   "authorship_tag": "ABX9TyPlnqRvS6Mmq7GXyKP/x0/N",
   "collapsed_sections": [],
   "machine_shape": "hm",
   "mount_file_id": "1zo2T7to-Ar3K8ezG4icMWkzpn_ShW4UQ",
   "name": "Covid19_prediction_with_Inception_Resnet_V2.ipynb",
   "provenance": []
  },
  "kernelspec": {
   "display_name": "Python 3",
   "language": "python",
   "name": "python3"
  },
  "language_info": {
   "codemirror_mode": {
    "name": "ipython",
    "version": 3
   },
   "file_extension": ".py",
   "mimetype": "text/x-python",
   "name": "python",
   "nbconvert_exporter": "python",
   "pygments_lexer": "ipython3",
   "version": "3.7.6"
  }
 },
 "nbformat": 4,
 "nbformat_minor": 1
}
